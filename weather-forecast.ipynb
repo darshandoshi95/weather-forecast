{
 "cells": [
  {
   "cell_type": "code",
   "execution_count": 12,
   "metadata": {
    "collapsed": true
   },
   "outputs": [],
   "source": [
    "from bs4 import BeautifulSoup\n",
    "import requests\n",
    "import pandas as pd\n",
    "page = requests.get('http://forecast.weather.gov/MapClick.php?lat=37.7772&lon=-122.4168#.WnObspM-d0u')"
   ]
  },
  {
   "cell_type": "code",
   "execution_count": 3,
   "metadata": {},
   "outputs": [],
   "source": [
    "soup = BeautifulSoup(page.content,'html.parser')\n",
    "seven_day = soup.find(id='seven-day-forecast')"
   ]
  },
  {
   "cell_type": "code",
   "execution_count": 7,
   "metadata": {},
   "outputs": [
    {
     "name": "stdout",
     "output_type": "stream",
     "text": [
      "['ThisAfternoon', 'Tonight', 'Friday', 'FridayNight', 'Saturday', 'SaturdayNight', 'Sunday', 'SundayNight', 'Monday']\n"
     ]
    }
   ],
   "source": [
    "period_tag=seven_day.select('.tombstone-container .period-name')\n",
    "period= [p.getText() for p in period_tag] \n",
    "print(period)"
   ]
  },
  {
   "cell_type": "code",
   "execution_count": 10,
   "metadata": {},
   "outputs": [
    {
     "name": "stdout",
     "output_type": "stream",
     "text": [
      "['Mostly Sunny', 'Mostly Clear', 'Mostly Sunny', 'Mostly Clear', 'Sunny', 'Mostly Clear', 'Sunny', 'Mostly Clear', 'Sunny']\n",
      "['This Afternoon: Mostly sunny, with a high near 66. West northwest wind around 9 mph. ', 'Tonight: Mostly clear, with a low around 54. Light and variable wind. ', 'Friday: Mostly sunny, with a high near 69. Light and variable wind becoming north 5 to 7 mph in the afternoon. ', 'Friday Night: Mostly clear, with a low around 52. Light and variable wind becoming south around 5 mph after midnight. ', 'Saturday: Sunny, with a high near 70. South southeast wind 6 to 9 mph becoming north in the morning. ', 'Saturday Night: Mostly clear, with a low around 53.', 'Sunday: Sunny, with a high near 68.', 'Sunday Night: Mostly clear, with a low around 53.', 'Monday: Sunny, with a high near 68.']\n",
      "['High: 66 °F', 'Low: 54 °F', 'High: 69 °F', 'Low: 52 °F', 'High: 70 °F', 'Low: 53 °F', 'High: 68 °F', 'Low: 53 °F', 'High: 68 °F']\n"
     ]
    }
   ],
   "source": [
    "period_desc=[sd.getText() for sd in seven_day.select('.tombstone-container .short-desc')]\n",
    "period_img=[img['title'] for img in seven_day.select('.tombstone-container img')]\n",
    "period_temp=[t.getText() for t in seven_day.select('.tombstone-container .temp')]\n",
    "\n",
    "print(period_desc)\n",
    "print(period_img)\n",
    "print(period_temp)\n"
   ]
  },
  {
   "cell_type": "code",
   "execution_count": 15,
   "metadata": {},
   "outputs": [
    {
     "data": {
      "text/html": [
       "<div>\n",
       "<style>\n",
       "    .dataframe thead tr:only-child th {\n",
       "        text-align: right;\n",
       "    }\n",
       "\n",
       "    .dataframe thead th {\n",
       "        text-align: left;\n",
       "    }\n",
       "\n",
       "    .dataframe tbody tr th {\n",
       "        vertical-align: top;\n",
       "    }\n",
       "</style>\n",
       "<table border=\"1\" class=\"dataframe\">\n",
       "  <thead>\n",
       "    <tr style=\"text-align: right;\">\n",
       "      <th></th>\n",
       "      <th>Short Description</th>\n",
       "      <th>Temperature</th>\n",
       "      <th>forecast</th>\n",
       "      <th>period</th>\n",
       "    </tr>\n",
       "  </thead>\n",
       "  <tbody>\n",
       "    <tr>\n",
       "      <th>0</th>\n",
       "      <td>Mostly Sunny</td>\n",
       "      <td>High: 66 °F</td>\n",
       "      <td>This Afternoon: Mostly sunny, with a high near...</td>\n",
       "      <td>ThisAfternoon</td>\n",
       "    </tr>\n",
       "    <tr>\n",
       "      <th>1</th>\n",
       "      <td>Mostly Clear</td>\n",
       "      <td>Low: 54 °F</td>\n",
       "      <td>Tonight: Mostly clear, with a low around 54. L...</td>\n",
       "      <td>Tonight</td>\n",
       "    </tr>\n",
       "    <tr>\n",
       "      <th>2</th>\n",
       "      <td>Mostly Sunny</td>\n",
       "      <td>High: 69 °F</td>\n",
       "      <td>Friday: Mostly sunny, with a high near 69. Lig...</td>\n",
       "      <td>Friday</td>\n",
       "    </tr>\n",
       "    <tr>\n",
       "      <th>3</th>\n",
       "      <td>Mostly Clear</td>\n",
       "      <td>Low: 52 °F</td>\n",
       "      <td>Friday Night: Mostly clear, with a low around ...</td>\n",
       "      <td>FridayNight</td>\n",
       "    </tr>\n",
       "    <tr>\n",
       "      <th>4</th>\n",
       "      <td>Sunny</td>\n",
       "      <td>High: 70 °F</td>\n",
       "      <td>Saturday: Sunny, with a high near 70. South so...</td>\n",
       "      <td>Saturday</td>\n",
       "    </tr>\n",
       "    <tr>\n",
       "      <th>5</th>\n",
       "      <td>Mostly Clear</td>\n",
       "      <td>Low: 53 °F</td>\n",
       "      <td>Saturday Night: Mostly clear, with a low aroun...</td>\n",
       "      <td>SaturdayNight</td>\n",
       "    </tr>\n",
       "    <tr>\n",
       "      <th>6</th>\n",
       "      <td>Sunny</td>\n",
       "      <td>High: 68 °F</td>\n",
       "      <td>Sunday: Sunny, with a high near 68.</td>\n",
       "      <td>Sunday</td>\n",
       "    </tr>\n",
       "    <tr>\n",
       "      <th>7</th>\n",
       "      <td>Mostly Clear</td>\n",
       "      <td>Low: 53 °F</td>\n",
       "      <td>Sunday Night: Mostly clear, with a low around 53.</td>\n",
       "      <td>SundayNight</td>\n",
       "    </tr>\n",
       "    <tr>\n",
       "      <th>8</th>\n",
       "      <td>Sunny</td>\n",
       "      <td>High: 68 °F</td>\n",
       "      <td>Monday: Sunny, with a high near 68.</td>\n",
       "      <td>Monday</td>\n",
       "    </tr>\n",
       "  </tbody>\n",
       "</table>\n",
       "</div>"
      ],
      "text/plain": [
       "  Short Description  Temperature  \\\n",
       "0      Mostly Sunny  High: 66 °F   \n",
       "1      Mostly Clear   Low: 54 °F   \n",
       "2      Mostly Sunny  High: 69 °F   \n",
       "3      Mostly Clear   Low: 52 °F   \n",
       "4             Sunny  High: 70 °F   \n",
       "5      Mostly Clear   Low: 53 °F   \n",
       "6             Sunny  High: 68 °F   \n",
       "7      Mostly Clear   Low: 53 °F   \n",
       "8             Sunny  High: 68 °F   \n",
       "\n",
       "                                            forecast         period  \n",
       "0  This Afternoon: Mostly sunny, with a high near...  ThisAfternoon  \n",
       "1  Tonight: Mostly clear, with a low around 54. L...        Tonight  \n",
       "2  Friday: Mostly sunny, with a high near 69. Lig...         Friday  \n",
       "3  Friday Night: Mostly clear, with a low around ...    FridayNight  \n",
       "4  Saturday: Sunny, with a high near 70. South so...       Saturday  \n",
       "5  Saturday Night: Mostly clear, with a low aroun...  SaturdayNight  \n",
       "6                Sunday: Sunny, with a high near 68.         Sunday  \n",
       "7  Sunday Night: Mostly clear, with a low around 53.    SundayNight  \n",
       "8                Monday: Sunny, with a high near 68.         Monday  "
      ]
     },
     "execution_count": 15,
     "metadata": {},
     "output_type": "execute_result"
    }
   ],
   "source": [
    "weather= pd.DataFrame(\n",
    "{\n",
    "    'period':period,\n",
    "    'Short Description':period_desc,\n",
    "    'Temperature':period_temp,\n",
    "    'forecast':period_img\n",
    "    \n",
    "})\n",
    "weather"
   ]
  },
  {
   "cell_type": "code",
   "execution_count": null,
   "metadata": {
    "collapsed": true
   },
   "outputs": [],
   "source": []
  },
  {
   "cell_type": "code",
   "execution_count": null,
   "metadata": {
    "collapsed": true
   },
   "outputs": [],
   "source": []
  }
 ],
 "metadata": {
  "kernelspec": {
   "display_name": "Python 3",
   "language": "python",
   "name": "python3"
  },
  "language_info": {
   "codemirror_mode": {
    "name": "ipython",
    "version": 3
   },
   "file_extension": ".py",
   "mimetype": "text/x-python",
   "name": "python",
   "nbconvert_exporter": "python",
   "pygments_lexer": "ipython3",
   "version": "3.6.3"
  }
 },
 "nbformat": 4,
 "nbformat_minor": 2
}
